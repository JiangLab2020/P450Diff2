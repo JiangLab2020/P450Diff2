{
 "cells": [
  {
   "cell_type": "code",
   "execution_count": 2,
   "metadata": {},
   "outputs": [],
   "source": [
    "import os\n",
    "\n",
    "import biotite.structure.io as bsio\n",
    "import esm\n",
    "import torch"
   ]
  },
  {
   "cell_type": "code",
   "execution_count": 3,
   "metadata": {},
   "outputs": [
    {
     "name": "stdout",
     "output_type": "stream",
     "text": [
      "results saved to: data/DMs/fine-tune/generated_samples_structures2/results.txt\n"
     ]
    }
   ],
   "source": [
    "os.environ[\"CUDA_VISIBLE_DEVICES\"] = \"7\"\n",
    "\n",
    "# Load ESM-Fold model\n",
    "model = esm.pretrained.esmfold_v1()\n",
    "model = model.eval().cuda()\n",
    "\n",
    "# Path to input FASTA file and output directory\n",
    "fasta_file = \"data/DMs/fine-tune/generated_samples_string.fasta\"\n",
    "output_dir = \"data/DMs/fine-tune/generated_samples_structures2\"\n",
    "\n",
    "# Create output directory if it does not exist\n",
    "os.makedirs(output_dir, exist_ok=True)\n",
    "\n",
    "# Read sequences from FASTA file\n",
    "with open(fasta_file, \"r\") as f:\n",
    "    fasta_content = f.read().strip().split(\">\")[1:]\n",
    "\n",
    "# Create a list to store RMSD and pLDDT results\n",
    "results = []\n",
    "\n",
    "# Iterate over sequences\n",
    "for entry in fasta_content:\n",
    "    lines = entry.strip().split(\"\\n\")\n",
    "    seq_id = lines[0].strip()\n",
    "    sequence = \"\".join(lines[1:])\n",
    "\n",
    "    # Perform structure inference\n",
    "    with torch.no_grad():\n",
    "        output = model.infer_pdb(sequence)\n",
    "\n",
    "    # Write output structure to PDB file\n",
    "    pdb_filename = os.path.join(output_dir, f\"{seq_id}.pdb\")\n",
    "    with open(pdb_filename, \"w\") as f:\n",
    "        f.write(output)\n",
    "\n",
    "    # Load structure and compute mean B factor (pLDDT)\n",
    "    struct = bsio.load_structure(pdb_filename, extra_fields=[\"b_factor\"])\n",
    "    plddt = struct.b_factor.mean()\n",
    "\n",
    "    # Append results\n",
    "    results.append((seq_id, plddt))\n",
    "\n",
    "# Write RMSD and pLDDT results to a text file\n",
    "result_filename = os.path.join(output_dir, \"results.txt\")\n",
    "with open(result_filename, \"w\") as f:\n",
    "    f.write(\"Sequence ID\\t pLDDT\\n\")\n",
    "    for result in results:\n",
    "        f.write(f\"{result[0]}\\t {result[1]:.4f}\\n\")\n",
    "\n",
    "print(f\"results saved to: {result_filename}\")"
   ]
  },
  {
   "cell_type": "code",
   "execution_count": null,
   "metadata": {},
   "outputs": [],
   "source": []
  }
 ],
 "metadata": {
  "kernelspec": {
   "display_name": "esmfold",
   "language": "python",
   "name": "python3"
  },
  "language_info": {
   "codemirror_mode": {
    "name": "ipython",
    "version": 3
   },
   "file_extension": ".py",
   "mimetype": "text/x-python",
   "name": "python",
   "nbconvert_exporter": "python",
   "pygments_lexer": "ipython3",
   "version": "3.7.12"
  }
 },
 "nbformat": 4,
 "nbformat_minor": 2
}
